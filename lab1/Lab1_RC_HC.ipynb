{
 "cells": [
  {
   "cell_type": "markdown",
   "metadata": {
    "cell_id": "097fce6dce21405c911254a775ae3d26",
    "deepnote_cell_type": "markdown",
    "id": "J4_IcuuKZj9Y"
   },
   "source": [
    "<h1><center>Laboratorio 1: Git 👾</center></h1>\n",
    "\n",
    "<center><strong>MDS7202: Laboratorio de Programación Científica para Ciencia de Datos - Primavera 2025</strong></center>"
   ]
  },
  {
   "cell_type": "markdown",
   "metadata": {
    "cell_id": "9e8e8f2ae34e461da4f44508a96d2cf4",
    "deepnote_cell_type": "markdown",
    "id": "AEXIACc7aADv"
   },
   "source": [
    "### Cuerpo Docente:\n",
    "\n",
    "- Profesores: Diego Cortez, Gabriel Iturra\n",
    "- Auxiliares: Melanie Peña, Valentina Rojas\n",
    "- Ayudantes: Nicolás Cabello, Cristopher Urbina"
   ]
  },
  {
   "cell_type": "markdown",
   "metadata": {
    "cell_id": "3e5b48c23e1b48f6a64de41899166179",
    "deepnote_cell_type": "markdown",
    "id": "0HgMMyoCaG8X"
   },
   "source": [
    "### Equipo: **SUPER IMPORTANTE - notebooks sin nombre no serán revisados**\n",
    "\n",
    "- Nombre de alumno 1: Hayter Cortés Muñoz\n",
    "- Nombre de alumno 2: Robert Collins Dättwyler"
   ]
  },
  {
   "cell_type": "markdown",
   "metadata": {
    "cell_id": "1db7c82b68614d19b112ba3b0d0abe4d",
    "deepnote_cell_type": "markdown",
    "id": "fz77X6glaK6y"
   },
   "source": [
    "### **Link de repositorio de GitHub:** [MLOps C.S. SpA](https://github.com/HayterCortes/lab-programacion-cientifica-para-ciencia-de-datos)"
   ]
  },
  {
   "cell_type": "markdown",
   "metadata": {
    "cell_id": "bc3dac65089d4ae6a43c079547dee179",
    "deepnote_cell_type": "markdown",
    "id": "rRwqaxIZaNx3"
   },
   "source": [
    "## Reglas:\n",
    "\n",
    "- **Grupos de 2 personas**\n",
    "- Fecha de entrega: 6 días de plazo con descuento de 1 punto por día. Entregas Martes a las 23:59.\n",
    "- Instrucciones del lab el viernes a las 16:15 en formato online. Asistencia no es obligatoria, pero se recomienda fuertemente asistir.\n",
    "- <u>Prohibidas las copias</u>. Cualquier intento de copia será debidamente penalizado con el reglamento de la escuela.\n",
    "- Tienen que subir el laboratorio a u-cursos y a su repositorio de github. Labs que no estén en u-cursos no serán revisados. Recuerden que el repositorio también tiene nota.\n",
    "- Cualquier duda fuera del horario de clases al foro. Mensajes al equipo docente serán respondidos por este medio.\n",
    "- Pueden usar cualquier material del curso que estimen conveniente."
   ]
  },
  {
   "cell_type": "markdown",
   "metadata": {
    "cell_id": "05e4729411a24153837fd13b7f198bd9",
    "deepnote_cell_type": "markdown",
    "id": "bmToL27JaSrf"
   },
   "source": [
    "## Objetivos del lab:\n",
    "\n",
    "\n",
    "- Conocer los elementos básicos que conformar `Git`\n",
    "- Clonar repositorios\n",
    "- Identificar ramas de un repositorio\n",
    "- Reconocer y solucionar problemas entre ramas\n",
    "- Subir cambios a un repositorio"
   ]
  },
  {
   "cell_type": "markdown",
   "metadata": {
    "cell_id": "5ebae9d601bd4d508349ab55297e9f82",
    "deepnote_cell_type": "markdown",
    "id": "bvnPCvrVbJLK"
   },
   "source": [
    "## Parte 1: Conocimiento Teórico (2.5 pts)\n",
    "\n",
    "<p align=\"center\">\n",
    "  <img src=\"https://cdn.thedesigninspiration.com/wp-content/uploads/sites/3/2019/04/macintosh-hdusersbrittanyloefflerdownloadsanig-1.gif\" width=\"350\">\n",
    "</p>"
   ]
  },
  {
   "cell_type": "markdown",
   "metadata": {
    "cell_id": "627494dba4f84520b3ee8b9cbf58ee79",
    "deepnote_cell_type": "markdown",
    "id": "JHl-24XnbNLF"
   },
   "source": [
    "Responda las siguientes preguntas (0.2 pts c/u):\n",
    "\n",
    "1. ¿Qué es `Git` y cómo se relaciona con el control de versiones?\n",
    "\n",
    "2. Nombre y explique 3 diferencias entre `Git` y `Github`.\n",
    "\n",
    "3. ¿Qué es un `hash` y cómo se representa en un `commit`? De un ejemplo.\n",
    "\n",
    "4. ¿Que elementos componen a la estructura de datos de `Git`?\n",
    "\n",
    "5. ¿Que comandos de `Git` sirven para crear un repositorio y hacer seguimiento a cambios en los archivos?"
   ]
  },
  {
   "cell_type": "markdown",
   "metadata": {
    "cell_id": "6d06c40f429044a298b27c666f51f46f",
    "deepnote_cell_type": "markdown",
    "id": "2tXCSkf0caG8"
   },
   "source": [
    "### Primeras respuestas:\n",
    "\n",
    "1. `Git` permite registrar y gestionar los cambios en archivos a lo largo del tiempo, facilitando la colaboración al mantener un historial completo de modificaciones, ramas y fusiones en un proyecto. \n",
    "Su relación con el control de versiones es que `Git` es justamente un sistema de control de versiones distribuido.\n",
    "\n",
    "2. Diferencias: \n",
    "* `Git` es una herramienta de control de versiones que se instala localmente en el computador, mientras que `Github` es una plataforma en línea que maneja la gestión del alojamiento de repositorios `Git`.\n",
    "* `Git` se usa principalmente desde la línea de comandos, mientras que `Github` ofrece una interfaz gráfica web.\n",
    "* `Github` posee funcionalidades extra para facilitar la colaboración remota como pull requests, issues y revisiones de código.\n",
    "\n",
    "3. Un hash identifica a un commmit, siendo una cadena única, asegurando la integridad del historial del proyecto. Por ejemplo el hash del commit que permitió añadir el link a nuestro repositorio Github en este Notebook, el cual se obtiene con <code>git log</code> localmente, trabajando en la rama *lab1*: <code>9e976b0b723fc21df9dc2da3f4019d19906ec7c5</code>.\n",
    "\n",
    "4. La estructura de datos de Git se compone principalmente de cuatro elementos: \n",
    "* Blob, que almacena el contenido de los archivos; \n",
    "* Tree, que representa directorios y organiza blobs y otros trees; \n",
    "* Commit, que registra un snapshot del proyecto e incluye referencias a un tree, al commit padre y un mensaje;  \n",
    "* Tag, que señala commits importantes de forma legible.\n",
    "\n",
    "5. Los comandos que sirven para crear íntegramente un repositorio:\n",
    "* <code>git init</code> en la carpeta donde se quiere crear el repositorio, esto para crear un nuevo repositorio,\n",
    "* <code>git add</code> para preparar archivos que serán registrados,\n",
    "* <code>git commit</code> para guardar los cambios en el historial del repositorio.\n",
    "\n",
    "Mientras tanto, los comandos que sirven para hacer seguimiento a cambios en los archivos del repositorio:\n",
    "* <code>git status</code> para ver el estado actual de los archivos (nuevos, modificados o eliminados),\n",
    "* <code>git diff</code> para comparar los cambios realizados respecto a la última versión registrada,\n",
    "* <code>git log</code> para revisar el historial de commits realizados en el repositorio."
   ]
  },
  {
   "cell_type": "markdown",
   "metadata": {
    "cell_id": "ec9855406e324cc98b59e33500faea84",
    "deepnote_cell_type": "markdown",
    "id": "MACccbP4gU43"
   },
   "source": [
    "Responda si las siguientes afirmaciones son Verdaderas (V) o Falsas (F). Justifique en **cualquiera** de los casos (0.2 pts c/u):\n",
    "\n",
    "\n",
    "6. `Git` siempre resuelve automáticamente los problemas de lineas al hacer merge entre diferentes ramas.\n",
    "7. Ejecutar `git pull` sobre un repositorio es equivalente a ejecutar `git clone`.\n",
    "8. `git status` genera los mismos resultados que `git log`.\n",
    "9. En `Git` es posible deshacer cambios y volver a versiones anteriores del código.\n",
    "10. El comando `git commit` se utiliza para enviar cambios al repositorio remoto."
   ]
  },
  {
   "cell_type": "markdown",
   "metadata": {
    "cell_id": "7e6a5a6e15b045cc9d104cf017825f1a",
    "deepnote_cell_type": "markdown",
    "id": "DFnmCToOgeM3"
   },
   "source": [
    "### Respuestas a preguntas verdadero o falso:\n",
    "\n",
    "6. **Falso**. Si bien siempre **intenta** resolver automáticamente los problemas de lineas al hacer merge entre diferentes ramas, puede que existan cambios incompatibles en las mismas líneas de un archivo, lo cual genera un conflicto que debe resolverse manualmente por el usuario.\n",
    "7. **Falso**. `git pull` se usa sobre un repositorio donde `git clone` ya se ejecutó. Primero se clona el repositorio remoto completo por primera vez en el local, y luego se usa el repositorio ya clonado para traer y fusionar los últimos cambios desde el remoto.\n",
    "8. **Falso**. `git status` muestra el estado actual del área de trabajo y del área de staging (archivos modificados, nuevos o eliminados), mientras que `git log` muestra el historial de commits realizados en el repositorio.\n",
    "9. **Verdadero**. Git permite deshacer cambios y volver a versiones anteriores usando comandos como `git checkout`, `git reset` o `git revert`, lo que facilita recuperar estados previos del proyecto según sea necesario.\n",
    "10. **Falso**. El comando `git commit` guarda los cambios localmente en el historial del repositorio, pero no los envía al remoto; para eso se debe usar `git push`.\n"
   ]
  },
  {
   "cell_type": "markdown",
   "metadata": {
    "cell_id": "54317cad024744ebaf4938df55ba3b95",
    "deepnote_cell_type": "markdown",
    "id": "LYq55sI2Rjf0"
   },
   "source": [
    "Por último, investigue y comente con sus palabras para qué sirven los siguientes comandos:\n",
    "\n",
    "11. `git stash` (0.25 puntos)\n",
    "12. `git reset`. ¿Cuál es la diferencia de este comando con `git revert`?. (0.25 puntos)"
   ]
  },
  {
   "cell_type": "markdown",
   "metadata": {},
   "source": [
    "### Respuestas:\n",
    "\n",
    "11. El comando `git stash` sirve para guardar temporalmente cambios en el área de trabajo a los cuales todavía no se les ha hecho commit. Esto puede ser de utilidad para cambiar de rama de manera urgente o realizar otras tareas sin perder esos cambios ni tener que haber hecho commit sobre estos, recuperando los cambios más tarde.\n",
    "\n",
    "12. `git reset` sirve para deshacer cambios en el historial de commits o en el área de staging; permitiendo mover el puntero de la rama actual a otro commit anterior, eliminando o conservando cambios según la opción usada en el `git reset`. Por otro lado, `git revert` no borra el historial, sino que crea un nuevo commit que deshace los cambios de un commit anterior, preservando el historial intacto."
   ]
  },
  {
   "cell_type": "markdown",
   "metadata": {
    "cell_id": "3e4d8b9974e4426ca38fd20f4b835a55",
    "deepnote_cell_type": "markdown",
    "id": "i7Em9JkbbRLo"
   },
   "source": [
    "## Parte 2: Creando una presentación personal (1.5 pts)\n",
    "\n",
    "<p align=\"center\">\n",
    "  <img src=\"https://media.tenor.com/arqlNu8gyJYAAAAC/cat-cat-jumping.gif\" width=\"150\">\n",
    "</p>\n",
    "\n"
   ]
  },
  {
   "cell_type": "markdown",
   "metadata": {
    "cell_id": "988648005dba4b9782c6625dfe6ae4ef",
    "deepnote_cell_type": "markdown",
    "id": "XWIHfyrlbYOJ"
   },
   "source": [
    "Para empezar a \"*soltar las manos*\" con `Git`, se les encomienda crear un repositorio con una presentación personal. El repositorio debe contener un breve resumen de quienes son ustedes, sus gustos, experiencias, y cualquier otro detalle interesante que ustedes consideren relevante.\n",
    "\n",
    "Para realizar esto, deben seguir los siguientes pasos:\n",
    "\n",
    "1. Contar con una cuenta de github (1 por persona)\n",
    "2. Crear un repositorio con su nombre de usuario\n",
    "3. Vincular el repositorio a su ambiente local ¿Qué comando(s) me permiten hacer esto?\n",
    "4. Crear un archivo `readme.md` con la información que ustedes deseen compartir.\n",
    "5. Realizar `push` con los cambios generados\n",
    "\n",
    "**Nota: Deben trabajar todos estos puntos desde su ambiente local**\n",
    "\n",
    "*Hint: Una buena opción es usar templates de presentación personal que encuentren en Google, como los que ofrece este [sitio](https://durgeshsamariya.github.io/awesome-github-profile-readme-templates/#/)*.\n",
    "\n",
    "**Entregable:**\n",
    "\n",
    "Enlace al repositorio con la presentación personal.\n",
    "\n",
    "IMPORTANTE: DEBEN ADJUNTAR UN ENLACE POR PERSONA"
   ]
  },
  {
   "cell_type": "markdown",
   "metadata": {
    "cell_id": "081b38d55dc54282bc8e3cd300ce9d3e",
    "deepnote_cell_type": "markdown",
    "id": "IIkWyl9tf0Sg"
   },
   "source": [
    "<code>Link Presentacion 1:</code> [Presentación Hayter Cortés](https://github.com/HayterCortes/HayterCortes)\n",
    "\n",
    "<code>Link Presentacion 2:</code>"
   ]
  },
  {
   "cell_type": "markdown",
   "metadata": {
    "cell_id": "0481a05d2d1a46928f6cfb7762720980",
    "deepnote_cell_type": "markdown",
    "id": "CAzXOwvDY-IG"
   },
   "source": [
    "## Parte 3: Trabajando sobre un repositorio externo (2 pts)\n",
    "\n",
    "<p align=\"center\">\n",
    "  <img src=\"https://media.tenor.com/YXL-0SK15j4AAAAC/dance-animals.gif\" width=\"300\">\n",
    "</p>\n",
    "\n",
    "Tras muchos dolores de cabeza, un grupo de entusiastas académicos decidieron aprender sobre `Git` y así trabajar colaborativamente de forma más ordenada y eficiente. Después de una infinidad de intentos y aprender de sus errores \"*a la mala*\", los académicos lograron levantar un [repositorio](https://github.com/MDS7202/lab1) en `Github`. Usando el repositorio de los académicos, responda las siguientes preguntas (**incluya también los comandos en `Git` ocupados**):\n"
   ]
  },
  {
   "cell_type": "markdown",
   "metadata": {
    "cell_id": "bcef73b2e8604579bde90ed6622abfe9",
    "deepnote_cell_type": "markdown",
    "id": "BFRnAw0rfguR"
   },
   "source": [
    "1. Clone el repositorio a su ambiente local. (0.25 pts)"
   ]
  },
  {
   "cell_type": "markdown",
   "metadata": {
    "cell_id": "5d126ac3819c44479af94d3895bc4c97",
    "deepnote_cell_type": "markdown",
    "id": "KXro32yBeilN"
   },
   "source": [
    "<code>git clone https://github.com/MDS7202/lab1.git</code>"
   ]
  },
  {
   "cell_type": "markdown",
   "metadata": {
    "cell_id": "e215e4e25b2440f09ac273ba63603986",
    "deepnote_cell_type": "markdown",
    "id": "8QB-GKmQRjf1"
   },
   "source": [
    "2. Descomprima los archivos subidos con la tarea en U-cursos en la carpeta recién clonada de github. Una vez realizado esto, cree un archivo `.gitignore` con el cual omita la carpeta `videos` y los archivos con la extensión `.txt` exceptuando el archivo `171.txt` de la carpeta `texts`. (0.25 pts)"
   ]
  },
  {
   "cell_type": "markdown",
   "metadata": {
    "cell_id": "186233b44d004e3bbd86262d010188b5",
    "deepnote_cell_type": "markdown",
    "id": "7VJ8IIYpRjf1"
   },
   "source": [
    "### Archivo .gitignore:\n",
    "<code>\n",
    "\n",
    "/videos/\n",
    "\n",
    "**/*.txt\n",
    "\n",
    "!/texts/171.txt\n",
    "\n",
    "</code>\n",
    "\n",
    "### Comandos <code> Git </code>:\n",
    "\n",
    "<code> git add .gitignore </code>\n",
    "\n",
    "<code> git commit -m \"Agrega archivo .gitignore para ignorar carpeta videos y archivos .txt excepto texts/171.txt\" </code>\n",
    "\n"
   ]
  },
  {
   "cell_type": "markdown",
   "metadata": {
    "cell_id": "1de150590a41484a988b8e46616a2324",
    "deepnote_cell_type": "markdown",
    "id": "q2qmiDyjt2M_"
   },
   "source": [
    "3. Inspeccione brevemente el repositorio: ¿Cual es el objetivo del proyecto? Explique brevemente la estructura del proyecto, asi como también cada elemento que lo conforma. (0.25 pts)"
   ]
  },
  {
   "cell_type": "markdown",
   "metadata": {
    "cell_id": "082ca01c865e48e28352b280400c47b6",
    "deepnote_cell_type": "markdown",
    "id": "aBHpR8VTftkT"
   },
   "source": [
    "El proyecto tiene como objetivo emular los sonidos de animales, según se indica en su archivo README. Puede servir como muestra de cómo estructurar un programa en módulos, manejar entradas del usuario y usar condicionales. Está estructurado en <code>animales.py</code>, que dado un nombre de animal imprime el sonido correspondiente; y el archivo <code>main.py</code> que actúa como punto de entrada del programa, solicitando al usuario que ingrese un animal, llamando a la función animales() desde el módulo importado."
   ]
  },
  {
   "cell_type": "markdown",
   "metadata": {
    "cell_id": "3aab4a3ee0c246e1be955680ad653fb8",
    "deepnote_cell_type": "markdown",
    "id": "XFwqcpLZfylf"
   },
   "source": [
    "4. Identifique los últimos cambios al repositorio, reconociendo las principales ramas de trabajo. ¿Son informativos los `commit` realizados? (0.25 pts)\n",
    "*Hint: Se recomienda usar los argumentos `all`, `graph` y `decorate`*"
   ]
  },
  {
   "cell_type": "markdown",
   "metadata": {
    "cell_id": "0fab79a360ac4c6a9ca0ab884f85c7e1",
    "deepnote_cell_type": "markdown",
    "id": "cmWfXBkOhog0"
   },
   "source": [
    "Utilizando <code>git log --oneline --all --graph --decorate</code> dentro del repositorio clonado, se identificaron las siguientes ramas principales:\n",
    "\n",
    "* <code>main</code>\n",
    "* <code>origin/main</code>\n",
    "* <code>origin/new_features</code>\n",
    "* <code>origin/fix-ifs</code>\n",
    "* <code>origin/HEAD apunta a main (es la rama por defecto del repositorio remoto)</code>\n",
    "\n",
    "Además, hay un branching claro, pues los commits divergen en <code>2554a33</code> (<code>origin/fix-ifs</code>) y <code>36f2e1</code> (<code>origin/new_features</code>) desde un ancestro común.\n",
    "\n",
    "* El commit raíz es <code>b262d86</code> con mensaje \"primer commit\".\n",
    "* En general, los mensajes en los commits son informativos, aunque poco descriptivos (como \"fix ifs\" o \"se agrega función\")."
   ]
  },
  {
   "cell_type": "markdown",
   "metadata": {
    "cell_id": "d07b24d21f2343fb9a7e6a5db74e98c3",
    "deepnote_cell_type": "markdown",
    "id": "Vqbj9HdXrUnN"
   },
   "source": [
    "5. Uno de los académicos se da cuenta que la rama principal de trabajo no se ejecuta correctamente para todos los argumentos. Señale y explique el error en el código e identifique a la persona que lo cometió usando `git blame` (0.25 pts)\n",
    "\n",
    "*Hint: Le puede ser útil esta [documentación](https://www.atlassian.com/es/git/tutorials/inspecting-a-repository/git-blame).*"
   ]
  },
  {
   "cell_type": "markdown",
   "metadata": {
    "cell_id": "bc5b0f9c639643108f8e66687b721732",
    "deepnote_cell_type": "markdown",
    "id": "5ajhV2Iar3tV"
   },
   "source": [
    "El archivo <code>animales.py</code> tiene el problema de que solo el último <code>if</code> está enlazado al <code>else</code>, lo que significa que si el input no es <code>'fox'</code>, lanza error. Deberían ser elif.\n",
    "\n",
    "Usando <code>git blame</code>, se logra identificar que todas las líneas del archivo fueron escritas por <code>mezosky</code> en el commit <code>36f2e1e</code>, realizado el 23 de marzo de 2023, a las 21:47:34. Sin embargo, la primera versión funcional de <code>seba</code> con el commit <code>c8b1a62</code> ya presentaba aquel bug lógico."
   ]
  },
  {
   "cell_type": "markdown",
   "metadata": {
    "cell_id": "f3f4e78e6d9145ebbb120c0a2e4aade6",
    "deepnote_cell_type": "markdown",
    "id": "m8J3uE7MhqTA"
   },
   "source": [
    "6. Busque los siguientes `commit`:\n",
    "\n",
    "- `c8b1a62d7299552b0654f930d695b33109214111`\n",
    "- `362fe21ee44f53ee944cee4ba484600308f83d78`\n",
    "- `25543a3baf77292baf849726784ca005473acab1`\n",
    "\n",
    "¿Qué diferencias existen entre cada uno? (0.25 pts)"
   ]
  },
  {
   "cell_type": "markdown",
   "metadata": {
    "cell_id": "696ed361ac0c41c8a214cfad9dcb39e6",
    "deepnote_cell_type": "markdown",
    "id": "sNHnZsgIitGh"
   },
   "source": [
    "Se usan los comandos <code>git show hash</code>.\n",
    "\n",
    "El commit `c8b1a62` introduce la función `animales(input)` directamente en el archivo `main.py`, agrupando toda la lógica en un solo lugar pero con una estructura condicional incorrecta. Luego, el commit `362fe21` reorganiza el proyecto separando la lógica en módulos, moviendo la función a un nuevo archivo `animales.py` e importándola desde `main.py`, mejorando la estructura del código aunque manteniendo el mismo error lógico. Finalmente, el commit `25543a3` corrige este error reemplazando los `if` por `elif`, asegurando que el bloque `else` solo se ejecute si ningún caso anterior se cumple, lo que soluciona el comportamiento incorrecto del programa."
   ]
  },
  {
   "cell_type": "markdown",
   "metadata": {
    "cell_id": "b4e18f8ce94c430f85915c4e2732d05b",
    "deepnote_cell_type": "markdown",
    "id": "WQIPbfNCgpxC"
   },
   "source": [
    "7. Realice una `merge` de la rama `fix-ifs` con la rama `main` y describa lo que ocurre. ¿Qué parte del código podría estar ocasionando esto? (0.25 pts)"
   ]
  },
  {
   "cell_type": "markdown",
   "metadata": {
    "cell_id": "36da6a0d4f4a427bbccac09e2ae965fd",
    "deepnote_cell_type": "markdown",
    "id": "ypH_6lL5ioZz"
   },
   "source": [
    "Tras ejecutar el comando <code>git merge origin/fix-ifs</code> se generó un conflicto de contenido en el archivo <code>main.py</code>, no pudiendo fusionar automáticamente las ramas. El conflicto se debe a que la rama <code>fix-ifs</code> modifica la función <code>animales()</code> dentro de <code>main.py</code>, mientras que en la rama <code>main</code>, esa función ya fue movida al archivo <code>animales.py</code>."
   ]
  },
  {
   "cell_type": "markdown",
   "metadata": {
    "cell_id": "09787ab449c543479e5cc54c2a3b6c19",
    "deepnote_cell_type": "markdown",
    "id": "GYfODCjeivkU"
   },
   "source": [
    "8. Cree una rama nueva y proponga una solución al problema anterior, adjuntando el código corregido y señalando las líneas modificadas. (0.25 pts)"
   ]
  },
  {
   "cell_type": "markdown",
   "metadata": {
    "cell_id": "6d963fba3f2d4c17a4b281c7d3f4fb8b",
    "deepnote_cell_type": "markdown",
    "id": "8heBxDU9iziT"
   },
   "source": [
    "Se creó una nueva rama llamada `fix-conflict-modular` con el comando `git checkout -b fix-conflict-modular`, con el fin de resolver el conflicto generado al fusionar `fix-ifs` con `main`. La solución consistió en mantener la estructura modular del proyecto, dejando la función `animales()` en el archivo `animales.py` y corrigiendo su lógica para usar `elif` en lugar de múltiples `if`, asegurando que el bloque `else` solo se ejecute cuando ninguna condición se cumple. En el archivo `main.py`, se conservó la importación `from animales import animales` y se eliminó la definición duplicada de la función. El código corregido en `animales.py` incluye: `if input.lower() == 'gato':`, seguido de `elif input.lower() == 'perro':` y `elif input.lower() == 'fox':`, más un `else` con `raise ValueError(...)`; estas modificaciones ocurrieron entre las líneas 8 y 12. En `main.py`, se modificó la línea 1 para mantener la importación correcta, y el resto del archivo quedó con el bloque principal sin conflictos."
   ]
  },
  {
   "cell_type": "markdown",
   "metadata": {
    "cell_id": "8a47d4bf8b3045d68e4f29bb449c87f1",
    "deepnote_cell_type": "markdown",
    "id": "Av8ebB9jkALO"
   },
   "source": [
    "## Fin"
   ]
  },
  {
   "cell_type": "markdown",
   "metadata": {
    "cell_id": "cec4b53942ed489f8f8b63d0e9d4f3e5",
    "deepnote_cell_type": "markdown",
    "id": "aQqZT9fSkBK8"
   },
   "source": [
    "Eso ha sido todo por ahora!! Esperamos que este laboratorio les haya gustado y servido para trabajar con `Git`. Recuerden los dias de plazo que tienen disponibles y que ante cualquier duda no duden en contactar al equipo docente.\n",
    "\n",
    "Nos vemos!!\n",
    "\n",
    "<p align=\"center\">\n",
    "  <img src=\"https://media.tenor.com/OYLdav9k9LkAAAAd/kitty-cat.gif\" width=\"350\">\n",
    "</p>\n"
   ]
  }
 ],
 "metadata": {
  "colab": {
   "provenance": []
  },
  "deepnote_execution_queue": [],
  "deepnote_notebook_id": "62cd20d52b9a4810ada15644630456dc",
  "language_info": {
   "name": "python"
  }
 },
 "nbformat": 4,
 "nbformat_minor": 0
}
